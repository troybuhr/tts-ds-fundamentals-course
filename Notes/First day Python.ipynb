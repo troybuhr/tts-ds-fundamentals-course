{
 "cells": [
  {
   "cell_type": "markdown",
   "id": "4101ef6f",
   "metadata": {},
   "source": [
    "12/15/2022\n",
    "\n",
    "##This is a Mark Down\n"
   ]
  },
  {
   "cell_type": "code",
   "execution_count": 1,
   "id": "14ab7936",
   "metadata": {},
   "outputs": [
    {
     "name": "stdout",
     "output_type": "stream",
     "text": [
      "hello\n"
     ]
    }
   ],
   "source": [
    "print(\"hello\")"
   ]
  },
  {
   "cell_type": "code",
   "execution_count": 5,
   "id": "4eef5d6f",
   "metadata": {},
   "outputs": [
    {
     "data": {
      "text/plain": [
       "'Multilin comment'"
      ]
     },
     "execution_count": 5,
     "metadata": {},
     "output_type": "execute_result"
    }
   ],
   "source": [
    "#Data types\n",
    "my_bool = True\n",
    "my_bool_2 = False \n",
    "my_int = 55\n",
    "my_float = 4.3\n",
    "my_string = \"helo world\"\n",
    "another string = 'hello word'\n",
    "yet_another_string = \"\"\"hello\"\"\"\n"
   ]
  },
  {
   "cell_type": "code",
   "execution_count": 6,
   "id": "59244dde",
   "metadata": {},
   "outputs": [
    {
     "name": "stdout",
     "output_type": "stream",
     "text": [
      "1.25\n"
     ]
    }
   ],
   "source": [
    "#Variable\n",
    "x = 5\n",
    "y = 4\n",
    "\n",
    "z = x / y\n",
    "\n",
    "print(z)"
   ]
  },
  {
   "cell_type": "code",
   "execution_count": 2,
   "id": "72c4f392",
   "metadata": {},
   "outputs": [],
   "source": [
    "#Math in Python"
   ]
  },
  {
   "cell_type": "code",
   "execution_count": null,
   "id": "c27ff640",
   "metadata": {},
   "outputs": [],
   "source": [
    "#Conditional Evaluation"
   ]
  },
  {
   "cell_type": "code",
   "execution_count": 3,
   "id": "e74891ea",
   "metadata": {},
   "outputs": [],
   "source": [
    "#Data Structures"
   ]
  },
  {
   "cell_type": "code",
   "execution_count": null,
   "id": "be91859d",
   "metadata": {},
   "outputs": [],
   "source": [
    "#Input Function"
   ]
  }
 ],
 "metadata": {
  "kernelspec": {
   "display_name": "Python 3 (ipykernel)",
   "language": "python",
   "name": "python3"
  },
  "language_info": {
   "codemirror_mode": {
    "name": "ipython",
    "version": 3
   },
   "file_extension": ".py",
   "mimetype": "text/x-python",
   "name": "python",
   "nbconvert_exporter": "python",
   "pygments_lexer": "ipython3",
   "version": "3.9.13"
  }
 },
 "nbformat": 4,
 "nbformat_minor": 5
}
