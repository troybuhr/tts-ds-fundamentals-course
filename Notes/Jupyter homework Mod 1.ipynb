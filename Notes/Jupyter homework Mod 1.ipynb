{
 "cells": [
  {
   "cell_type": "code",
   "execution_count": 36,
   "id": "e16d91b9",
   "metadata": {},
   "outputs": [
    {
     "name": "stdout",
     "output_type": "stream",
     "text": [
      "Buhr  Troy\n"
     ]
    }
   ],
   "source": [
    "\n",
    "#Question 1\n",
    "\n",
    "FN = \"Troy\" #defining firstname\n",
    "LN = \"Buhr \" #defining lastname\n",
    "print(LN,FN) #printing last name first"
   ]
  },
  {
   "cell_type": "code",
   "execution_count": 8,
   "id": "3e7a2d6c",
   "metadata": {},
   "outputs": [
    {
     "name": "stdout",
     "output_type": "stream",
     "text": [
      "615\n"
     ]
    }
   ],
   "source": [
    "#Question 2\n",
    "\n",
    "n = 5 #defining n\n",
    "nn = 55 #defining nn\n",
    "nnn = 555 #defining nnn\n",
    "print(n+nn+nnn) #printing the sum\n"
   ]
  },
  {
   "cell_type": "code",
   "execution_count": 21,
   "id": "311e13a7",
   "metadata": {},
   "outputs": [
    {
     "name": "stdout",
     "output_type": "stream",
     "text": [
      "What is your favorite country?Germany\n",
      "I have heard that Germany is a beatiful place!\n"
     ]
    }
   ],
   "source": [
    "#Question 3\n",
    "\n",
    "fcountry = input(\"What is your favorite country?\") #asking the question\n",
    "print(\"I have heard that\", fcountry, \"is a beatiful place!\") #Printing a response to their question"
   ]
  },
  {
   "cell_type": "code",
   "execution_count": 33,
   "id": "5d5ed178",
   "metadata": {},
   "outputs": [],
   "source": [
    "#Question 4\n",
    "\n",
    "x = 10\n",
    "y = 50\n",
    "if (x**2 > 100 and y < 100): #criteria is not met, so nothing is printed\n",
    "    print(x,y)"
   ]
  },
  {
   "cell_type": "code",
   "execution_count": 25,
   "id": "c979a7af",
   "metadata": {},
   "outputs": [
    {
     "name": "stdout",
     "output_type": "stream",
     "text": [
      "[10, 20, 30, 40]\n",
      "[10, 20, 30, 40]\n"
     ]
    }
   ],
   "source": [
    "#Question 5\n",
    "\n",
    "a = [10, 20]\n",
    "b = a\n",
    "b += [30, 40] # doing the += adds 30,40 to the existing 10,20. The code executes this way because a = b\n",
    "print(a)\n",
    "print(b)"
   ]
  },
  {
   "cell_type": "code",
   "execution_count": 28,
   "id": "3803c19f",
   "metadata": {},
   "outputs": [
    {
     "name": "stdout",
     "output_type": "stream",
     "text": [
      "2\n"
     ]
    }
   ],
   "source": [
    "#Question 6\n",
    "\n",
    "print(6%4) #This % divides the left value by the right value and gives the remainder.4 goes into 6 once, with a remainder of 2."
   ]
  },
  {
   "cell_type": "code",
   "execution_count": 31,
   "id": "98f50366",
   "metadata": {},
   "outputs": [
    {
     "name": "stdout",
     "output_type": "stream",
     "text": [
      "216\n"
     ]
    }
   ],
   "source": [
    "#Question 7\n",
    "\n",
    "print(2 * 3 ** 3 * 4) #multiplication and exponential. Becomes 2 x 3^3 (aka 27) x 4 = 216 "
   ]
  },
  {
   "cell_type": "code",
   "execution_count": 34,
   "id": "f23d602f",
   "metadata": {},
   "outputs": [],
   "source": [
    "#Question 8\n",
    "\n",
    "#A text editor is just a computer program that edits text.\n"
   ]
  },
  {
   "cell_type": "code",
   "execution_count": 35,
   "id": "89fcd8de",
   "metadata": {},
   "outputs": [],
   "source": [
    "#Question 9\n",
    "\n",
    "#Python is a specific type of programming language"
   ]
  },
  {
   "cell_type": "code",
   "execution_count": null,
   "id": "faee72c6",
   "metadata": {},
   "outputs": [],
   "source": [
    "#Question 10\n",
    "\n",
    "#Jupyter Notebook is an IDE (Integrated development enviornment).\n",
    "# It's an application for writing code, and is the primary user interface for the developer. \n",
    "#Alt IDEs are Pycharm, Spyder, IDLE, etc."
   ]
  }
 ],
 "metadata": {
  "kernelspec": {
   "display_name": "Python 3 (ipykernel)",
   "language": "python",
   "name": "python3"
  },
  "language_info": {
   "codemirror_mode": {
    "name": "ipython",
    "version": 3
   },
   "file_extension": ".py",
   "mimetype": "text/x-python",
   "name": "python",
   "nbconvert_exporter": "python",
   "pygments_lexer": "ipython3",
   "version": "3.9.13"
  }
 },
 "nbformat": 4,
 "nbformat_minor": 5
}
